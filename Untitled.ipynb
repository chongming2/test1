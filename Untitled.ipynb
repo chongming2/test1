{
 "cells": [
  {
   "cell_type": "code",
   "execution_count": 1,
   "metadata": {},
   "outputs": [],
   "source": [
    "from  selenium import webdriver \n",
    "import re\n",
    "import pandas as pd\n",
    "import time as ti\n",
    "import numpy as np\n",
    "from pyecharts import options as opts\n",
    "from pyecharts.charts import Radar\n",
    "from pyecharts.faker import Collector\n",
    "from pyecharts.globals import CurrentConfig, NotebookType\n",
    "CurrentConfig.NOTEBOOK_TYPE = NotebookType.JUPYTER_NOTEBOOK"
   ]
  },
  {
   "cell_type": "code",
   "execution_count": 11,
   "metadata": {},
   "outputs": [
    {
     "name": "stdout",
     "output_type": "stream",
     "text": [
      "                                                 户籍村组   姓名   性别 身份证号码 联系电话  \\\n",
      "0   <re.Match object; span=(3210, 3483), match='<l...   []   []    []   []   \n",
      "1                                                 NaN  NaN  NaN   NaN  NaN   \n",
      "2                                                 NaN  NaN  NaN   NaN  NaN   \n",
      "3                                                 NaN  NaN  NaN   NaN  NaN   \n",
      "4                                                 NaN  NaN  NaN   NaN  NaN   \n",
      "..                                                ...  ...  ...   ...  ...   \n",
      "95                                                NaN  NaN  NaN   NaN  NaN   \n",
      "96                                                NaN  NaN  NaN   NaN  NaN   \n",
      "97                                                NaN  NaN  NaN   NaN  NaN   \n",
      "98                                                NaN  NaN  NaN   NaN  NaN   \n",
      "99                                                NaN  NaN  NaN   NaN  NaN   \n",
      "\n",
      "   务工地点          计划返岗时间  \n",
      "0    []  [].[].[].12:00  \n",
      "1   NaN             NaN  \n",
      "2   NaN             NaN  \n",
      "3   NaN             NaN  \n",
      "4   NaN             NaN  \n",
      "..  ...             ...  \n",
      "95  NaN             NaN  \n",
      "96  NaN             NaN  \n",
      "97  NaN             NaN  \n",
      "98  NaN             NaN  \n",
      "99  NaN             NaN  \n",
      "\n",
      "[100 rows x 7 columns]\n"
     ]
    }
   ],
   "source": [
    "personInfo=pd.DataFrame(columns={'户籍村组':\"\",'姓名':\"\",'性别':\"\",'身份证号码':\"\",'联系电话':\"\",'务工地点':\"\",'计划返岗时间':\"\"},index=range(100))\n",
    "browser = webdriver.Chrome()\n",
    "url=['file:///E:/programming/python/personInfo/1.html']\n",
    "for i in range(1):\n",
    "    browser.get(url[i])\n",
    "    source=browser.page_source \n",
    "    home=re.findall('<li>户籍地址：\\n(.*?)<input disabled=\"disabled\" style=\"width:88%;\" type=\"text\" value=\"(.*?)\">',source,re.S)\n",
    "    name=re.findall('<li>姓名：<input disabled=\"disabled\" type=\"text\" value=\"(.*?)\"></li>',source,re.S)\n",
    "    sex=re.findall('<li>性别：<input disabled=\"disabled\" type=\"checkbox\" checked=\"checked\">男<input disabled=\"disabled\" style=\"margin-left: 50px;\" type=\"checkbox\">(.*?)<>',source,re.S)\n",
    "    idcard=re.findall('<li>身份证号码：<input disabled=\"disabled\" style=\"width: 60%;\" type=\"text\" value=\"(.*?)\"></li>',source,re.S)\n",
    "    tel=re.findall('<li>手机号码：<input disabled=\"disabled\" style=\"width: 40%;\" type=\"text\" value=\"(.*?)\"></li>',source,re.S)\n",
    "    local=re.findall('<li>目的地：<input disabled=\"disabled\" style=\"width: 68%;background: #ffffff\" type=\"text\" value=\"(.*?)\"></li>',source,re.S)\n",
    "    time=re.findall('<li>户籍地址：\\n<input disabled=\"disabled\" style=\"width:88%;\" type=\"text\" value=\"(.*?)\">',source,re.S)\n",
    "    year=re.findall('<li>出行日期：<input disabled=\"disabled\" style=\"text-align: center;\" type=\"text\" value=\"(.*?)\">年<input style=\"text-align: center;\" disabled=\"disabled\" type=\"text\" value=\".*?\">月<input style=\"text-align: center;\" disabled=\"disabled\" type=\"text\" value=\".*?\">日</li>',source,re.S)\n",
    "    month=re.findall('<li>出行日期：<input disabled=\"disabled\" style=\"text-align: center;\" type=\"text\" value=\".*?\">年<input style=\"text-align: center;\" disabled=\"disabled\" type=\"text\" value=\"(.*?)\">月<input style=\"text-align: center;\" disabled=\"disabled\" type=\"text\" value=\".*?\">日</li>',source,re.S)\n",
    "    day=re.findall('<li>出行日期：<input disabled=\"disabled\" style=\"text-align: center;\" type=\"text\" value=\".*?\">年<input style=\"text-align: center;\" disabled=\"disabled\" type=\"text\" value=\".*?\">月<input style=\"text-align: center;\" disabled=\"disabled\" type=\"text\" value=\"(.*?)\">日</li>',source,re.S)\n",
    "    time= '%s.%s.%s.%s' % (year, month, day, \"12:00\")\n",
    "    \n",
    "    personInfo[\"户籍村组\"][i]=home\n",
    "    personInfo[\"姓名\"][i]=name\n",
    "    personInfo[\"性别\"][i]=sex\n",
    "    personInfo[\"身份证号码\"][i]=idcard\n",
    "    personInfo[\"联系电话\"][i]=tel\n",
    "    personInfo[\"务工地点\"][i]=local\n",
    "    personInfo[\"计划返岗时间\"][i]=time\n",
    "    ti.sleep(10)\n",
    "print(personInfo)\n",
    "personInfo.to_excel(\"1.xlsx\",\"top20\",index=False)\n",
    "browser.close()"
   ]
  },
  {
   "cell_type": "code",
   "execution_count": null,
   "metadata": {},
   "outputs": [],
   "source": []
  },
  {
   "cell_type": "code",
   "execution_count": null,
   "metadata": {},
   "outputs": [],
   "source": []
  }
 ],
 "metadata": {
  "kernelspec": {
   "display_name": "Python 3",
   "language": "python",
   "name": "python3"
  },
  "language_info": {
   "codemirror_mode": {
    "name": "ipython",
    "version": 3
   },
   "file_extension": ".py",
   "mimetype": "text/x-python",
   "name": "python",
   "nbconvert_exporter": "python",
   "pygments_lexer": "ipython3",
   "version": "3.7.0"
  }
 },
 "nbformat": 4,
 "nbformat_minor": 2
}
