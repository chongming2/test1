{
 "cells": [
  {
   "cell_type": "code",
   "execution_count": 2,
   "metadata": {},
   "outputs": [],
   "source": [
    "from  selenium import webdriver \n",
    "import re\n",
    "import pandas as pd\n",
    "import time as ti\n",
    "import numpy as np\n",
    "import urllib\n",
    "import os"
   ]
  },
  {
   "cell_type": "code",
   "execution_count": 3,
   "metadata": {
    "scrolled": true
   },
   "outputs": [
    {
     "name": "stdout",
     "output_type": "stream",
     "text": [
      "                 户籍村组   姓名               身份证号码         联系电话  \\\n",
      "0  四川省成都市龙泉驿区公园路一段锦上城  曾凡洪  511623198606216696  13558839014   \n",
      "1  四川省成都市龙泉驿区公园路一段锦上城  曾凡洪  511623198606216696  13558839014   \n",
      "\n",
      "           务工地点(X省X县) 计划返岗时间(X月X日X点)  \n",
      "0  四川省成都市龙泉驿区公园路一段锦上城    2020年02月22日  \n",
      "1  四川省成都市龙泉驿区公园路一段锦上城    2020年02月22日  \n"
     ]
    }
   ],
   "source": [
    "data_num=2#html个数\n",
    "data=pd.DataFrame(columns={'户籍村组':\"\",'姓名':\"\",'身份证号码':\"\",'联系电话':\"\",'务工地点(X省X县)':\"\",'计划返岗时间(X月X日X点)':\"\"},\n",
    "index=range(data_num))\n",
    "url=[\"file:///E:/programming/python/personInfo/1.html\",\"file:///E:/programming/python/personInfo/1.html\"]\n",
    "browser = webdriver.Chrome()\n",
    "address=[]\n",
    "name=[]\n",
    "id_card=[]\n",
    "telephone=[]\n",
    "place=[]\n",
    "time=[]\n",
    "for html in url:\n",
    "    browser.get(html)\n",
    "    source=browser.page_source\n",
    "    #获取户籍村组\n",
    "    address_s=re.findall('value=\"(.*?)\"',re.findall('<li>户籍地址：\\n(.*?)</li>',source,re.S)[0],re.S)\n",
    "    address.append(address_s[0])\n",
    "    #获取姓名\n",
    "    name_s=re.findall('value=\"(.*?)\"',re.findall('<li>姓名：(.*?)</li>',source,re.S)[0],re.S)\n",
    "    name.append(name_s[0])\n",
    "    #获取身份证号\n",
    "    id_card_s=re.findall('value=\"(.*?)\"',re.findall('<li>身份证号码：(.*?)</li>',source,re.S)[0],re.S)\n",
    "    id_card.append(id_card_s[0])\n",
    "    #获取电话\n",
    "    telephone_s=re.findall('value=\"(.*?)\"',re.findall('<li>手机号码：(.*?)</li>',source,re.S)[0],re.S)\n",
    "    telephone.append(telephone_s[0])\n",
    "    #获取务工地点\n",
    "    place_s=re.findall('value=\"(.*?)\"',re.findall('<li>目的地：<input(.*?)</li>',source,re.S)[0],re.S)\n",
    "    place.append(place_s[0])\n",
    "    #获取返岗时间\n",
    "    time_s=re.findall('value=\"(.*?)\"',re.findall('<li>出行日期：(.*?)</li>',source,re.S)[0],re.S)\n",
    "    time.append(time_s[0]+\"年\"+time_s[1]+\"月\"+time_s[2]+\"日\")\n",
    "data[\"户籍村组\"][0:data_num]=address\n",
    "data[\"姓名\"][0:data_num]=name\n",
    "data[\"身份证号码\"][0:data_num]=id_card\n",
    "data[\"联系电话\"][0:data_num]=telephone\n",
    "data[\"务工地点(X省X县)\"][0:data_num]=place\n",
    "data[\"计划返岗时间(X月X日X点)\"][0:data_num]=time\n",
    "print(data)\n",
    "data.to_excel(\"data.xlsx\",index=False)\n",
    "browser.close()"
   ]
  },
  {
   "cell_type": "code",
   "execution_count": null,
   "metadata": {},
   "outputs": [],
   "source": []
  }
 ],
 "metadata": {
  "kernelspec": {
   "display_name": "Python 3",
   "language": "python",
   "name": "python3"
  },
  "language_info": {
   "codemirror_mode": {
    "name": "ipython",
    "version": 3
   },
   "file_extension": ".py",
   "mimetype": "text/x-python",
   "name": "python",
   "nbconvert_exporter": "python",
   "pygments_lexer": "ipython3",
   "version": "3.7.0"
  }
 },
 "nbformat": 4,
 "nbformat_minor": 2
}
